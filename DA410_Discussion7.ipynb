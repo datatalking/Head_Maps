{
 "cells": [
  {
   "cell_type": "markdown",
   "source": [
    "Heat Map Analysis with PCA Correlation\n",
    "# source https://towardsdatascience.com/how-to-run-r-scripts-in-jupyter-15527148d2a"
   ],
   "metadata": {
    "collapsed": false,
    "pycharm": {
     "name": "#%% md\n"
    }
   }
  },
  {
   "cell_type": "code",
   "execution_count": 1,
   "outputs": [
    {
     "ename": "SyntaxError",
     "evalue": "invalid syntax (2765419779.py, line 2)",
     "output_type": "error",
     "traceback": [
      "\u001B[0;36m  File \u001B[0;32m\"/var/folders/v0/7gtj3bhx74z6w7kx78fhqlmm0000gn/T/ipykernel_97848/2765419779.py\"\u001B[0;36m, line \u001B[0;32m2\u001B[0m\n\u001B[0;31m    devtools::install_github(\"IRkernel/IRkernel\")\u001B[0m\n\u001B[0m             ^\u001B[0m\n\u001B[0;31mSyntaxError\u001B[0m\u001B[0;31m:\u001B[0m invalid syntax\n"
     ]
    }
   ],
   "source": [
    "install.packages(\"devtools\")\n",
    "devtools::install_github(\"IRkernel/IRkernel\")\n",
    "IRkernel::installspec()\n"
   ],
   "metadata": {
    "collapsed": false,
    "pycharm": {
     "name": "#%%\n"
    }
   }
  },
  {
   "cell_type": "code",
   "execution_count": 2,
   "outputs": [
    {
     "ename": "SyntaxError",
     "evalue": "invalid syntax (3149894962.py, line 6)",
     "output_type": "error",
     "traceback": [
      "\u001B[0;36m  File \u001B[0;32m\"/var/folders/v0/7gtj3bhx74z6w7kx78fhqlmm0000gn/T/ipykernel_97848/3149894962.py\"\u001B[0;36m, line \u001B[0;32m6\u001B[0m\n\u001B[0;31m    ncidat = t(NCI60$data)\u001B[0m\n\u001B[0m                    ^\u001B[0m\n\u001B[0;31mSyntaxError\u001B[0m\u001B[0;31m:\u001B[0m invalid syntax\n"
     ]
    }
   ],
   "source": [
    "install.packages(\"ISLR\")\n",
    "library(ISLR)\n",
    "library(ggplot2)\n",
    "\n",
    "\n",
    "ncidat = t(NCI60$data)\n",
    "colnames(ncidat) = NCI60$labs\n",
    "\n",
    "dim(ncidat)"
   ],
   "metadata": {
    "collapsed": false,
    "pycharm": {
     "name": "#%%\n"
    }
   }
  },
  {
   "cell_type": "code",
   "execution_count": null,
   "outputs": [],
   "source": [
    "unique(colnames(ncidat))"
   ],
   "metadata": {
    "collapsed": false,
    "pycharm": {
     "name": "#%%\n"
    }
   }
  },
  {
   "cell_type": "code",
   "execution_count": null,
   "outputs": [],
   "source": [
    "ncidat[1:6,1:6]"
   ],
   "metadata": {
    "collapsed": false,
    "pycharm": {
     "name": "#%%\n"
    }
   }
  },
  {
   "cell_type": "code",
   "execution_count": null,
   "outputs": [],
   "source": [
    "X = t(scale(t(ncidat),center=TRUE,scale=FALSE))"
   ],
   "metadata": {
    "collapsed": false,
    "pycharm": {
     "name": "#%%\n"
    }
   }
  },
  {
   "cell_type": "code",
   "execution_count": null,
   "outputs": [],
   "source": [
    "# we transpose X again for svd\n",
    "sv = svd(t(X))\n",
    "U = sv$u\n",
    "V = sv$v\n",
    "D = sv$d\n",
    "\n",
    "## in R calculate the rank of a matrix is by\n",
    "qr(t(X))$rank"
   ],
   "metadata": {
    "collapsed": false,
    "pycharm": {
     "name": "#%%\n"
    }
   }
  },
  {
   "cell_type": "code",
   "execution_count": null,
   "outputs": [],
   "source": [
    "length(D)\n",
    "min(D)"
   ],
   "metadata": {
    "collapsed": false,
    "pycharm": {
     "name": "#%%\n"
    }
   }
  },
  {
   "cell_type": "code",
   "execution_count": null,
   "outputs": [],
   "source": [
    "cols = as.numeric(as.factor(colnames(ncidat)))\n",
    "\n",
    "plot(U[,1],U[,2],type=\"n\",xlab=\"PC1\",ylab=\"PC2\")\n",
    "text(U[,1],U[,2],colnames(X),col=cols)"
   ],
   "metadata": {
    "collapsed": false,
    "pycharm": {
     "name": "#%%\n"
    }
   }
  },
  {
   "cell_type": "code",
   "execution_count": null,
   "outputs": [],
   "source": [
    "pc_dat<- data.frame(type = rownames(Z), PC1 = Z[,1], PC2= Z[,2])\n",
    "library(ggplot2)"
   ],
   "metadata": {
    "collapsed": false,
    "pycharm": {
     "name": "#%%\n"
    }
   }
  },
  {
   "cell_type": "code",
   "execution_count": null,
   "outputs": [],
   "source": [
    "## the text is a bit messy, may try packages below or play more with ggplot2\n",
    "## use directlabels http://directlabels.r-forge.r-project.org/\n",
    "## use cowplot https://github.com/wilkelab/cowplot"
   ],
   "metadata": {
    "collapsed": false,
    "pycharm": {
     "name": "#%%\n"
    }
   }
  },
  {
   "cell_type": "code",
   "execution_count": null,
   "outputs": [],
   "source": [
    "pc_dat<- data.frame(type = rownames(Z), PC1 = Z[,1], PC2= Z[,2])"
   ],
   "metadata": {
    "collapsed": false,
    "pycharm": {
     "name": "#%%\n"
    }
   }
  },
  {
   "cell_type": "code",
   "execution_count": null,
   "outputs": [],
   "source": [
    "## get a gradient of colors for grey, green, red.\n",
    "## one can do better use other libraries such RcolorBrewer. see examples later.\n",
    "\n",
    "aa<- grep(\"grey\",colors())\n",
    "bb<- grep(\"green\",colors())\n",
    "cc<-  grep(\"red\",colors())\n",
    "gcol2<- colors()[c(aa[1:30],bb[1:20],rep(cc,2))]\n",
    "\n",
    "## use the genes that drive the first PC1. This is the first major patter in the data\n",
    "k=1\n",
    "ord1<- order(abs(V[,k]),decreasing=TRUE)\n",
    "x1<- as.matrix(X[ord1[1:250],])\n",
    "heatmap(x1,col=gcol2)\n"
   ],
   "metadata": {
    "collapsed": false,
    "pycharm": {
     "name": "#%%\n"
    }
   }
  },
  {
   "cell_type": "code",
   "execution_count": null,
   "outputs": [],
   "source": [],
   "metadata": {
    "collapsed": false,
    "pycharm": {
     "name": "#%%\n"
    }
   }
  }
 ],
 "metadata": {
  "kernelspec": {
   "display_name": "Python 3",
   "language": "python",
   "name": "python3"
  },
  "language_info": {
   "codemirror_mode": {
    "name": "ipython",
    "version": 2
   },
   "file_extension": ".py",
   "mimetype": "text/x-python",
   "name": "python",
   "nbconvert_exporter": "python",
   "pygments_lexer": "ipython2",
   "version": "2.7.6"
  }
 },
 "nbformat": 4,
 "nbformat_minor": 0
}